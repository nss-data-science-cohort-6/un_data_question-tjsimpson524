{
 "cells": [
  {
   "cell_type": "code",
   "execution_count": 1,
   "id": "3860a4ee",
   "metadata": {},
   "outputs": [],
   "source": [
    "import pandas as pd\n",
    "import numpy as np\n",
    "import matplotlib.pyplot as plt\n",
    "import seaborn as sns"
   ]
  },
  {
   "cell_type": "code",
   "execution_count": 2,
   "id": "56fd85f9",
   "metadata": {},
   "outputs": [],
   "source": [
    "species = pd.read_csv('../data/SYB64_313_202110_Threatened Species.csv')"
   ]
  },
  {
   "cell_type": "code",
   "execution_count": 4,
   "id": "cf277069",
   "metadata": {},
   "outputs": [
    {
     "data": {
      "text/html": [
       "<div>\n",
       "<style scoped>\n",
       "    .dataframe tbody tr th:only-of-type {\n",
       "        vertical-align: middle;\n",
       "    }\n",
       "\n",
       "    .dataframe tbody tr th {\n",
       "        vertical-align: top;\n",
       "    }\n",
       "\n",
       "    .dataframe thead th {\n",
       "        text-align: right;\n",
       "    }\n",
       "</style>\n",
       "<table border=\"1\" class=\"dataframe\">\n",
       "  <thead>\n",
       "    <tr style=\"text-align: right;\">\n",
       "      <th></th>\n",
       "      <th>T23</th>\n",
       "      <th>Threatened species</th>\n",
       "      <th>Unnamed: 2</th>\n",
       "      <th>Unnamed: 3</th>\n",
       "      <th>Unnamed: 4</th>\n",
       "      <th>Unnamed: 5</th>\n",
       "      <th>Unnamed: 6</th>\n",
       "    </tr>\n",
       "  </thead>\n",
       "  <tbody>\n",
       "    <tr>\n",
       "      <th>0</th>\n",
       "      <td>Region/Country/Area</td>\n",
       "      <td>NaN</td>\n",
       "      <td>Year</td>\n",
       "      <td>Series</td>\n",
       "      <td>Value</td>\n",
       "      <td>Footnotes</td>\n",
       "      <td>Source</td>\n",
       "    </tr>\n",
       "    <tr>\n",
       "      <th>1</th>\n",
       "      <td>4</td>\n",
       "      <td>Afghanistan</td>\n",
       "      <td>2004</td>\n",
       "      <td>Threatened Species: Vertebrates (number)</td>\n",
       "      <td>31</td>\n",
       "      <td>NaN</td>\n",
       "      <td>World Conservation Union (IUCN), Gland and Cam...</td>\n",
       "    </tr>\n",
       "    <tr>\n",
       "      <th>2</th>\n",
       "      <td>4</td>\n",
       "      <td>Afghanistan</td>\n",
       "      <td>2010</td>\n",
       "      <td>Threatened Species: Vertebrates (number)</td>\n",
       "      <td>31</td>\n",
       "      <td>NaN</td>\n",
       "      <td>World Conservation Union (IUCN), Gland and Cam...</td>\n",
       "    </tr>\n",
       "    <tr>\n",
       "      <th>3</th>\n",
       "      <td>4</td>\n",
       "      <td>Afghanistan</td>\n",
       "      <td>2015</td>\n",
       "      <td>Threatened Species: Vertebrates (number)</td>\n",
       "      <td>31</td>\n",
       "      <td>NaN</td>\n",
       "      <td>World Conservation Union (IUCN), Gland and Cam...</td>\n",
       "    </tr>\n",
       "    <tr>\n",
       "      <th>4</th>\n",
       "      <td>4</td>\n",
       "      <td>Afghanistan</td>\n",
       "      <td>2018</td>\n",
       "      <td>Threatened Species: Vertebrates (number)</td>\n",
       "      <td>34</td>\n",
       "      <td>NaN</td>\n",
       "      <td>World Conservation Union (IUCN), Gland and Cam...</td>\n",
       "    </tr>\n",
       "  </tbody>\n",
       "</table>\n",
       "</div>"
      ],
      "text/plain": [
       "                   T23 Threatened species Unnamed: 2  \\\n",
       "0  Region/Country/Area                NaN       Year   \n",
       "1                    4        Afghanistan       2004   \n",
       "2                    4        Afghanistan       2010   \n",
       "3                    4        Afghanistan       2015   \n",
       "4                    4        Afghanistan       2018   \n",
       "\n",
       "                                 Unnamed: 3 Unnamed: 4 Unnamed: 5  \\\n",
       "0                                    Series      Value  Footnotes   \n",
       "1  Threatened Species: Vertebrates (number)         31        NaN   \n",
       "2  Threatened Species: Vertebrates (number)         31        NaN   \n",
       "3  Threatened Species: Vertebrates (number)         31        NaN   \n",
       "4  Threatened Species: Vertebrates (number)         34        NaN   \n",
       "\n",
       "                                          Unnamed: 6  \n",
       "0                                             Source  \n",
       "1  World Conservation Union (IUCN), Gland and Cam...  \n",
       "2  World Conservation Union (IUCN), Gland and Cam...  \n",
       "3  World Conservation Union (IUCN), Gland and Cam...  \n",
       "4  World Conservation Union (IUCN), Gland and Cam...  "
      ]
     },
     "execution_count": 4,
     "metadata": {},
     "output_type": "execute_result"
    }
   ],
   "source": [
    "species.head()"
   ]
  },
  {
   "cell_type": "code",
   "execution_count": 5,
   "id": "926b8d86",
   "metadata": {},
   "outputs": [
    {
     "data": {
      "text/html": [
       "<div>\n",
       "<style scoped>\n",
       "    .dataframe tbody tr th:only-of-type {\n",
       "        vertical-align: middle;\n",
       "    }\n",
       "\n",
       "    .dataframe tbody tr th {\n",
       "        vertical-align: top;\n",
       "    }\n",
       "\n",
       "    .dataframe thead th {\n",
       "        text-align: right;\n",
       "    }\n",
       "</style>\n",
       "<table border=\"1\" class=\"dataframe\">\n",
       "  <thead>\n",
       "    <tr style=\"text-align: right;\">\n",
       "      <th></th>\n",
       "      <th>T23</th>\n",
       "      <th>Country</th>\n",
       "      <th>Year</th>\n",
       "      <th>Threatened Species Type</th>\n",
       "      <th>Count</th>\n",
       "      <th>Unnamed: 5</th>\n",
       "      <th>Source</th>\n",
       "    </tr>\n",
       "  </thead>\n",
       "  <tbody>\n",
       "    <tr>\n",
       "      <th>0</th>\n",
       "      <td>Region/Country/Area</td>\n",
       "      <td>NaN</td>\n",
       "      <td>Year</td>\n",
       "      <td>Series</td>\n",
       "      <td>Value</td>\n",
       "      <td>Footnotes</td>\n",
       "      <td>Source</td>\n",
       "    </tr>\n",
       "    <tr>\n",
       "      <th>1</th>\n",
       "      <td>4</td>\n",
       "      <td>Afghanistan</td>\n",
       "      <td>2004</td>\n",
       "      <td>Threatened Species: Vertebrates (number)</td>\n",
       "      <td>31</td>\n",
       "      <td>NaN</td>\n",
       "      <td>World Conservation Union (IUCN), Gland and Cam...</td>\n",
       "    </tr>\n",
       "    <tr>\n",
       "      <th>2</th>\n",
       "      <td>4</td>\n",
       "      <td>Afghanistan</td>\n",
       "      <td>2010</td>\n",
       "      <td>Threatened Species: Vertebrates (number)</td>\n",
       "      <td>31</td>\n",
       "      <td>NaN</td>\n",
       "      <td>World Conservation Union (IUCN), Gland and Cam...</td>\n",
       "    </tr>\n",
       "    <tr>\n",
       "      <th>3</th>\n",
       "      <td>4</td>\n",
       "      <td>Afghanistan</td>\n",
       "      <td>2015</td>\n",
       "      <td>Threatened Species: Vertebrates (number)</td>\n",
       "      <td>31</td>\n",
       "      <td>NaN</td>\n",
       "      <td>World Conservation Union (IUCN), Gland and Cam...</td>\n",
       "    </tr>\n",
       "    <tr>\n",
       "      <th>4</th>\n",
       "      <td>4</td>\n",
       "      <td>Afghanistan</td>\n",
       "      <td>2018</td>\n",
       "      <td>Threatened Species: Vertebrates (number)</td>\n",
       "      <td>34</td>\n",
       "      <td>NaN</td>\n",
       "      <td>World Conservation Union (IUCN), Gland and Cam...</td>\n",
       "    </tr>\n",
       "    <tr>\n",
       "      <th>...</th>\n",
       "      <td>...</td>\n",
       "      <td>...</td>\n",
       "      <td>...</td>\n",
       "      <td>...</td>\n",
       "      <td>...</td>\n",
       "      <td>...</td>\n",
       "      <td>...</td>\n",
       "    </tr>\n",
       "    <tr>\n",
       "      <th>6916</th>\n",
       "      <td>716</td>\n",
       "      <td>Zimbabwe</td>\n",
       "      <td>2015</td>\n",
       "      <td>Threatened Species: Total (number)</td>\n",
       "      <td>60</td>\n",
       "      <td>NaN</td>\n",
       "      <td>World Conservation Union (IUCN), Gland and Cam...</td>\n",
       "    </tr>\n",
       "    <tr>\n",
       "      <th>6917</th>\n",
       "      <td>716</td>\n",
       "      <td>Zimbabwe</td>\n",
       "      <td>2018</td>\n",
       "      <td>Threatened Species: Total (number)</td>\n",
       "      <td>95</td>\n",
       "      <td>NaN</td>\n",
       "      <td>World Conservation Union (IUCN), Gland and Cam...</td>\n",
       "    </tr>\n",
       "    <tr>\n",
       "      <th>6918</th>\n",
       "      <td>716</td>\n",
       "      <td>Zimbabwe</td>\n",
       "      <td>2019</td>\n",
       "      <td>Threatened Species: Total (number)</td>\n",
       "      <td>103</td>\n",
       "      <td>NaN</td>\n",
       "      <td>World Conservation Union (IUCN), Gland and Cam...</td>\n",
       "    </tr>\n",
       "    <tr>\n",
       "      <th>6919</th>\n",
       "      <td>716</td>\n",
       "      <td>Zimbabwe</td>\n",
       "      <td>2020</td>\n",
       "      <td>Threatened Species: Total (number)</td>\n",
       "      <td>122</td>\n",
       "      <td>NaN</td>\n",
       "      <td>World Conservation Union (IUCN), Gland and Cam...</td>\n",
       "    </tr>\n",
       "    <tr>\n",
       "      <th>6920</th>\n",
       "      <td>716</td>\n",
       "      <td>Zimbabwe</td>\n",
       "      <td>2021</td>\n",
       "      <td>Threatened Species: Total (number)</td>\n",
       "      <td>124</td>\n",
       "      <td>NaN</td>\n",
       "      <td>World Conservation Union (IUCN), Gland and Cam...</td>\n",
       "    </tr>\n",
       "  </tbody>\n",
       "</table>\n",
       "<p>6921 rows × 7 columns</p>\n",
       "</div>"
      ],
      "text/plain": [
       "                      T23      Country  Year  \\\n",
       "0     Region/Country/Area          NaN  Year   \n",
       "1                       4  Afghanistan  2004   \n",
       "2                       4  Afghanistan  2010   \n",
       "3                       4  Afghanistan  2015   \n",
       "4                       4  Afghanistan  2018   \n",
       "...                   ...          ...   ...   \n",
       "6916                  716     Zimbabwe  2015   \n",
       "6917                  716     Zimbabwe  2018   \n",
       "6918                  716     Zimbabwe  2019   \n",
       "6919                  716     Zimbabwe  2020   \n",
       "6920                  716     Zimbabwe  2021   \n",
       "\n",
       "                       Threatened Species Type  Count Unnamed: 5  \\\n",
       "0                                       Series  Value  Footnotes   \n",
       "1     Threatened Species: Vertebrates (number)     31        NaN   \n",
       "2     Threatened Species: Vertebrates (number)     31        NaN   \n",
       "3     Threatened Species: Vertebrates (number)     31        NaN   \n",
       "4     Threatened Species: Vertebrates (number)     34        NaN   \n",
       "...                                        ...    ...        ...   \n",
       "6916        Threatened Species: Total (number)     60        NaN   \n",
       "6917        Threatened Species: Total (number)     95        NaN   \n",
       "6918        Threatened Species: Total (number)    103        NaN   \n",
       "6919        Threatened Species: Total (number)    122        NaN   \n",
       "6920        Threatened Species: Total (number)    124        NaN   \n",
       "\n",
       "                                                 Source  \n",
       "0                                                Source  \n",
       "1     World Conservation Union (IUCN), Gland and Cam...  \n",
       "2     World Conservation Union (IUCN), Gland and Cam...  \n",
       "3     World Conservation Union (IUCN), Gland and Cam...  \n",
       "4     World Conservation Union (IUCN), Gland and Cam...  \n",
       "...                                                 ...  \n",
       "6916  World Conservation Union (IUCN), Gland and Cam...  \n",
       "6917  World Conservation Union (IUCN), Gland and Cam...  \n",
       "6918  World Conservation Union (IUCN), Gland and Cam...  \n",
       "6919  World Conservation Union (IUCN), Gland and Cam...  \n",
       "6920  World Conservation Union (IUCN), Gland and Cam...  \n",
       "\n",
       "[6921 rows x 7 columns]"
      ]
     },
     "execution_count": 5,
     "metadata": {},
     "output_type": "execute_result"
    }
   ],
   "source": [
    "species = species.rename(columns = {'Threatened species': 'Country',\n",
    "                                    'Unnamed: 2': 'Year', \n",
    "                                    'Unnamed: 3': 'Threatened Species Type', \n",
    "                                    'Unnamed: 4': 'Count', \n",
    "                                    'Unnamed: 6': 'Source'})\n",
    "species"
   ]
  },
  {
   "cell_type": "code",
   "execution_count": 15,
   "id": "4da4e54c",
   "metadata": {},
   "outputs": [],
   "source": [
    "species_usa = species[species['Country'] == 'United States of America']\n"
   ]
  },
  {
   "cell_type": "code",
   "execution_count": 20,
   "id": "c28035de",
   "metadata": {},
   "outputs": [],
   "source": [
    "species_usa_plants = species_usa[species_usa['Threatened Species Type'] == 'Threatened Species: Plants (number)']"
   ]
  },
  {
   "cell_type": "code",
   "execution_count": 38,
   "id": "8a2af855",
   "metadata": {},
   "outputs": [],
   "source": [
    "species_usa_plants = species_usa_plants[species_usa_plants['Year'] >= '2018']\n"
   ]
  },
  {
   "cell_type": "code",
   "execution_count": 39,
   "id": "e72272a6",
   "metadata": {},
   "outputs": [],
   "source": [
    "species_usa_plants = species_usa_plants.rename(columns = {'Threatened Species Type': 'Plants', 'Count': 'Plant Total'})\n"
   ]
  },
  {
   "cell_type": "code",
   "execution_count": 24,
   "id": "b51b884c",
   "metadata": {},
   "outputs": [],
   "source": [
    "species_usa_vertebrates = species_usa[species_usa['Threatened Species Type'] == 'Threatened Species: Vertebrates (number)']"
   ]
  },
  {
   "cell_type": "code",
   "execution_count": 28,
   "id": "218a99c6",
   "metadata": {},
   "outputs": [],
   "source": [
    "species_usa_vertebrates = species_usa_vertebrates[species_usa_vertebrates['Year'] >= '2018']\n"
   ]
  },
  {
   "cell_type": "code",
   "execution_count": 41,
   "id": "10d85085",
   "metadata": {},
   "outputs": [],
   "source": [
    "species_usa_vertebrates = species_usa_vertebrates.rename(columns = {'Threatened Species Type': 'Vertebrates', 'Count': 'Vertebrate Total'})"
   ]
  },
  {
   "cell_type": "code",
   "execution_count": 30,
   "id": "9e045680",
   "metadata": {},
   "outputs": [],
   "source": [
    "species_usa_invertebrates = species_usa[species_usa['Threatened Species Type'] == 'Threatened Species: Invertebrates (number)']"
   ]
  },
  {
   "cell_type": "code",
   "execution_count": 32,
   "id": "a9cda980",
   "metadata": {},
   "outputs": [],
   "source": [
    "species_usa_invertebrates = species_usa_invertebrates[species_usa_invertebrates['Year'] >= '2018']\n"
   ]
  },
  {
   "cell_type": "code",
   "execution_count": 44,
   "id": "0e079bfc",
   "metadata": {},
   "outputs": [],
   "source": [
    "species_usa_invertebrates = species_usa_invertebrates.rename(columns = {'Threatened Species Type': 'Invertebrates', 'Count': 'Invertebrate Total'})"
   ]
  },
  {
   "cell_type": "code",
   "execution_count": 46,
   "id": "1ef59de2",
   "metadata": {},
   "outputs": [],
   "source": [
    "species_usa = pd.merge(species_usa_plants, species_usa_vertebrates, how = 'outer')"
   ]
  },
  {
   "cell_type": "code",
   "execution_count": 48,
   "id": "18f49265",
   "metadata": {},
   "outputs": [],
   "source": [
    "species_usa = pd.merge(species_usa, species_usa_invertebrates, how = 'outer')"
   ]
  },
  {
   "cell_type": "code",
   "execution_count": 52,
   "id": "9e7f7663",
   "metadata": {},
   "outputs": [],
   "source": [
    "species_usa = species_usa.drop(columns= ['T23', 'Unnamed: 5', 'Source'])"
   ]
  },
  {
   "cell_type": "code",
   "execution_count": 53,
   "id": "410db1d0",
   "metadata": {},
   "outputs": [
    {
     "data": {
      "text/html": [
       "<div>\n",
       "<style scoped>\n",
       "    .dataframe tbody tr th:only-of-type {\n",
       "        vertical-align: middle;\n",
       "    }\n",
       "\n",
       "    .dataframe tbody tr th {\n",
       "        vertical-align: top;\n",
       "    }\n",
       "\n",
       "    .dataframe thead th {\n",
       "        text-align: right;\n",
       "    }\n",
       "</style>\n",
       "<table border=\"1\" class=\"dataframe\">\n",
       "  <thead>\n",
       "    <tr style=\"text-align: right;\">\n",
       "      <th></th>\n",
       "      <th>Country</th>\n",
       "      <th>Year</th>\n",
       "      <th>Plants</th>\n",
       "      <th>Plant Total</th>\n",
       "      <th>Vertebrates</th>\n",
       "      <th>Vertebrate Total</th>\n",
       "      <th>Invertebrates</th>\n",
       "      <th>Invertebrate Total</th>\n",
       "    </tr>\n",
       "  </thead>\n",
       "  <tbody>\n",
       "    <tr>\n",
       "      <th>0</th>\n",
       "      <td>United States of America</td>\n",
       "      <td>2018</td>\n",
       "      <td>Threatened Species: Plants (number)</td>\n",
       "      <td>498</td>\n",
       "      <td>Threatened Species: Vertebrates (number)</td>\n",
       "      <td>462</td>\n",
       "      <td>Threatened Species: Invertebrates (number)</td>\n",
       "      <td>580</td>\n",
       "    </tr>\n",
       "    <tr>\n",
       "      <th>1</th>\n",
       "      <td>United States of America</td>\n",
       "      <td>2019</td>\n",
       "      <td>Threatened Species: Plants (number)</td>\n",
       "      <td>556</td>\n",
       "      <td>Threatened Species: Vertebrates (number)</td>\n",
       "      <td>479</td>\n",
       "      <td>Threatened Species: Invertebrates (number)</td>\n",
       "      <td>581</td>\n",
       "    </tr>\n",
       "    <tr>\n",
       "      <th>2</th>\n",
       "      <td>United States of America</td>\n",
       "      <td>2020</td>\n",
       "      <td>Threatened Species: Plants (number)</td>\n",
       "      <td>587</td>\n",
       "      <td>Threatened Species: Vertebrates (number)</td>\n",
       "      <td>482</td>\n",
       "      <td>Threatened Species: Invertebrates (number)</td>\n",
       "      <td>586</td>\n",
       "    </tr>\n",
       "    <tr>\n",
       "      <th>3</th>\n",
       "      <td>United States of America</td>\n",
       "      <td>2021</td>\n",
       "      <td>Threatened Species: Plants (number)</td>\n",
       "      <td>735</td>\n",
       "      <td>Threatened Species: Vertebrates (number)</td>\n",
       "      <td>506</td>\n",
       "      <td>Threatened Species: Invertebrates (number)</td>\n",
       "      <td>600</td>\n",
       "    </tr>\n",
       "  </tbody>\n",
       "</table>\n",
       "</div>"
      ],
      "text/plain": [
       "                    Country  Year                               Plants  \\\n",
       "0  United States of America  2018  Threatened Species: Plants (number)   \n",
       "1  United States of America  2019  Threatened Species: Plants (number)   \n",
       "2  United States of America  2020  Threatened Species: Plants (number)   \n",
       "3  United States of America  2021  Threatened Species: Plants (number)   \n",
       "\n",
       "  Plant Total                               Vertebrates Vertebrate Total  \\\n",
       "0         498  Threatened Species: Vertebrates (number)              462   \n",
       "1         556  Threatened Species: Vertebrates (number)              479   \n",
       "2         587  Threatened Species: Vertebrates (number)              482   \n",
       "3         735  Threatened Species: Vertebrates (number)              506   \n",
       "\n",
       "                                Invertebrates Invertebrate Total  \n",
       "0  Threatened Species: Invertebrates (number)                580  \n",
       "1  Threatened Species: Invertebrates (number)                581  \n",
       "2  Threatened Species: Invertebrates (number)                586  \n",
       "3  Threatened Species: Invertebrates (number)                600  "
      ]
     },
     "execution_count": 53,
     "metadata": {},
     "output_type": "execute_result"
    }
   ],
   "source": [
    "species_usa"
   ]
  },
  {
   "cell_type": "code",
   "execution_count": 91,
   "id": "f6c822e7",
   "metadata": {
    "scrolled": false
   },
   "outputs": [
    {
     "data": {
      "text/plain": [
       "<seaborn.axisgrid.FacetGrid at 0x18e98e23c70>"
      ]
     },
     "execution_count": 91,
     "metadata": {},
     "output_type": "execute_result"
    },
    {
     "data": {
      "image/png": "[encoded data removed]",
      "text/plain": [
       "<Figure size 1152x288 with 4 Axes>"
      ]
     },
     "metadata": {
      "needs_background": "light"
     },
     "output_type": "display_data"
    },
    {
     "data": {
      "image/png": "[encoded data removed]",
      "text/plain": [
       "<Figure size 1152x288 with 4 Axes>"
      ]
     },
     "metadata": {
      "needs_background": "light"
     },
     "output_type": "display_data"
    },
    {
     "data": {
      "image/png": "[encoded data removed]",
      "text/plain": [
       "<Figure size 1152x288 with 4 Axes>"
      ]
     },
     "metadata": {
      "needs_background": "light"
     },
     "output_type": "display_data"
    }
   ],
   "source": [
    "species_usa_Facet = sns.FacetGrid(species_usa, col = 'Plant Total', height = 4, aspect = 1)\n",
    "species_usa_Facet.map(plt.bar, 'Year', 'Plant Total', edgecolor = 'black', color = 'red'),\n",
    "species_usa_Facet = sns.FacetGrid(species_usa, col = 'Invertebrate Total', height = 4, aspect = 1)\n",
    "species_usa_Facet.map(plt.bar, 'Year', 'Invertebrate Total', edgecolor = 'black', color = 'white'),\n",
    "species_usa_Facet = sns.FacetGrid(species_usa, col = 'Vertebrate Total', height = 4, aspect = 1)\n",
    "species_usa_Facet.map(plt.bar, 'Year', 'Vertebrate Total', edgecolor = 'black')\n"
   ]
  },
  {
   "cell_type": "code",
   "execution_count": 168,
   "id": "2bd1c958",
   "metadata": {},
   "outputs": [],
   "source": [
    "usa_ghg_90_20 = pd.read_csv('../data/usa_ghg_90_20.csv')"
   ]
  },
  {
   "cell_type": "code",
   "execution_count": 169,
   "id": "1ae8715b",
   "metadata": {},
   "outputs": [],
   "source": [
    "usa_ghg_90_20 = usa_ghg_90_20.dropna()"
   ]
  },
  {
   "cell_type": "code",
   "execution_count": 207,
   "id": "11d756d7",
   "metadata": {},
   "outputs": [],
   "source": [
    "usa_ghg_90_20 = usa_ghg_90_20.rename(index = {'Unspecified mix of HFCs and PFCs':'Unknown HFCs & PFCs'})\n",
    "usa_ghg_90_20 = usa_ghg_90_20.drop(17)"
   ]
  },
  {
   "cell_type": "code",
   "execution_count": 268,
   "id": "ab30bdc6",
   "metadata": {},
   "outputs": [
    {
     "data": {
      "text/plain": [
       "<AxesSubplot:title={'center':'US Green House Gases (GHG) Comparison: 1990 & 2020 '}, xlabel='Gases'>"
      ]
     },
     "execution_count": 268,
     "metadata": {},
     "output_type": "execute_result"
    },
    {
     "data": {
      "image/png": "[encoded data removed]",
      "text/plain": [
       "<Figure size 1080x576 with 1 Axes>"
      ]
     },
     "metadata": {
      "needs_background": "light"
     },
     "output_type": "display_data"
    }
   ],
   "source": [
    "usa_ghg_90_20.plot(kind = 'bar', x = 'Gas', \n",
    "                   color = ['green', 'lime'],\n",
    "                   xlabel = 'Gases', \n",
    "                   title = 'US Green House Gases (GHG) Comparison: 1990 & 2020 ',\n",
    "                   figsize = (15,8))"
   ]
  },
  {
   "cell_type": "code",
   "execution_count": 224,
   "id": "b8577af5",
   "metadata": {},
   "outputs": [],
   "source": [
    "usa_ghg_90_20 = pd.read_csv('../data/usa_ghg_90_20.csv')\n"
   ]
  },
  {
   "cell_type": "code",
   "execution_count": 232,
   "id": "6133d155",
   "metadata": {},
   "outputs": [],
   "source": [
    "usa_ghg_90_20 = usa_ghg_90_20.dropna()"
   ]
  },
  {
   "cell_type": "code",
   "execution_count": 386,
   "id": "bc60aac3",
   "metadata": {},
   "outputs": [
    {
     "data": {
      "text/plain": [
       "<seaborn.axisgrid.FacetGrid at 0x18eaffff970>"
      ]
     },
     "execution_count": 386,
     "metadata": {},
     "output_type": "execute_result"
    },
    {
     "data": {
      "image/png": "[encoded data removed]",
      "text/plain": [
       "<Figure size 432x288 with 1 Axes>"
      ]
     },
     "metadata": {
      "needs_background": "light"
     },
     "output_type": "display_data"
    },
    {
     "data": {
      "image/png": "[encoded data removed]",
      "text/plain": [
       "<Figure size 288x288 with 1 Axes>"
      ]
     },
     "metadata": {
      "needs_background": "light"
     },
     "output_type": "display_data"
    }
   ],
   "source": [
    "usa_ghg_90_20.plot(color = ['green', 'lime'])\n",
    "species_usa_Facet = sns.FacetGrid(species_usa, col = 'Country', height = 4, aspect = 1)\n",
    "species_usa_Facet.map(plt.stackplot, 'Year', 'Plant Total', edgecolor = 'black', color = 'red')\n",
    "\n",
    "\n",
    "\n"
   ]
  }
 ],
 "metadata": {
  "kernelspec": {
   "display_name": "Python 3 (ipykernel)",
   "language": "python",
   "name": "python3"
  },
  "language_info": {
   "codemirror_mode": {
    "name": "ipython",
    "version": 3
   },
   "file_extension": ".py",
   "mimetype": "text/x-python",
   "name": "python",
   "nbconvert_exporter": "python",
   "pygments_lexer": "ipython3",
   "version": "3.9.12"
  }
 },
 "nbformat": 4,
 "nbformat_minor": 5
}
